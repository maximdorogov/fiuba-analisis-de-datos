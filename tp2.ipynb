{
 "cells": [
  {
   "cell_type": "markdown",
   "metadata": {},
   "source": [
    "# Trabajo practico integrador: Parte 2\n",
    "## [Crimenes ocurridos en la ciudad de Chicago (2024)](https://data.cityofchicago.org/Public-Safety/Crimes-in-Chicago/ijzp-q8t2)\n",
    "\n",
    "### Grupo: 9\n",
    "### Alumno: Maxim Dorogov\n",
    "\n",
    "## Objetivo\n",
    "El objetivo de este trabajo es realizar una preparacion de datos (limpieza, correccion, feature engineering y split), para resolver un problema de clasificacion sobre un dataset de los crimenes ocurridos en la ciudad de Chicago en el año 2024. Para ello vamos a partir del dataset utilizado en la parte 1 del trabajo practico del cual se eliminaron columnas que no eran relevantes para el analisis."
   ]
  },
  {
   "cell_type": "code",
   "execution_count": null,
   "metadata": {},
   "outputs": [],
   "source": [
    "import pandas as pd\n",
    "import missingno as msno\n",
    "from matplotlib import pyplot as plt\n",
    "import geopandas as gpd\n",
    "from shapely.geometry import Point\n",
    "import contextily as ctx\n",
    "import numpy as np"
   ]
  },
  {
   "cell_type": "code",
   "execution_count": null,
   "metadata": {},
   "outputs": [],
   "source": [
    "df = pd.read_csv('Crimes_-_2024_20250701_filtered.csv')"
   ]
  }
 ],
 "metadata": {
  "language_info": {
   "name": "python"
  }
 },
 "nbformat": 4,
 "nbformat_minor": 2
}
